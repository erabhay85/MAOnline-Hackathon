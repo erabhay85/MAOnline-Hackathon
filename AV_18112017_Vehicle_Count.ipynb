{
 "cells": [
  {
   "cell_type": "code",
   "execution_count": null,
   "metadata": {
    "collapsed": true
   },
   "outputs": [],
   "source": [
    "import pandas as pd\n",
    "import numpy as np\n",
    "import matplotlib.pyplot as plt\n",
    "import seaborn as sns\n",
    "%matplotlib inline"
   ]
  },
  {
   "cell_type": "code",
   "execution_count": 311,
   "metadata": {
    "collapsed": true
   },
   "outputs": [],
   "source": [
    "VehicleData = pd.read_csv('AV_18112017.csv')"
   ]
  },
  {
   "cell_type": "code",
   "execution_count": 312,
   "metadata": {
    "collapsed": true
   },
   "outputs": [],
   "source": [
    "VehicleData['Vehicles'] = VehicleData['Vehicles'].astype(float)"
   ]
  },
  {
   "cell_type": "code",
   "execution_count": 318,
   "metadata": {
    "collapsed": true
   },
   "outputs": [],
   "source": [
    "VehicleData_1 = VehicleData[VehicleData['Junction'] == 1]"
   ]
  },
  {
   "cell_type": "code",
   "execution_count": null,
   "metadata": {
    "collapsed": true
   },
   "outputs": [],
   "source": [
    "VehicleData_2 = VehicleData[VehicleData['Junction'] == 2]"
   ]
  },
  {
   "cell_type": "code",
   "execution_count": null,
   "metadata": {
    "collapsed": true
   },
   "outputs": [],
   "source": [
    "VehicleData_3 = VehicleData[VehicleData['Junction'] == 3]"
   ]
  },
  {
   "cell_type": "code",
   "execution_count": null,
   "metadata": {
    "collapsed": true
   },
   "outputs": [],
   "source": [
    "VehicleData_4 = VehicleData[VehicleData['Junction'] == 4]"
   ]
  },
  {
   "cell_type": "code",
   "execution_count": 301,
   "metadata": {},
   "outputs": [
    {
     "data": {
      "text/html": [
       "<div>\n",
       "<style>\n",
       "    .dataframe thead tr:only-child th {\n",
       "        text-align: right;\n",
       "    }\n",
       "\n",
       "    .dataframe thead th {\n",
       "        text-align: left;\n",
       "    }\n",
       "\n",
       "    .dataframe tbody tr th {\n",
       "        vertical-align: top;\n",
       "    }\n",
       "</style>\n",
       "<table border=\"1\" class=\"dataframe\">\n",
       "  <thead>\n",
       "    <tr style=\"text-align: right;\">\n",
       "      <th></th>\n",
       "      <th>ID</th>\n",
       "      <th>DateTime</th>\n",
       "      <th>Junction</th>\n",
       "      <th>Vehicles</th>\n",
       "      <th>WeekDay</th>\n",
       "      <th>Date</th>\n",
       "      <th>Month</th>\n",
       "      <th>Year</th>\n",
       "      <th>Time</th>\n",
       "      <th>Sunday</th>\n",
       "      <th>Monday</th>\n",
       "      <th>Tuesday</th>\n",
       "      <th>Wednesday</th>\n",
       "      <th>Thursday</th>\n",
       "      <th>Friday</th>\n",
       "      <th>Saturday</th>\n",
       "      <th>Weekend</th>\n",
       "      <th>Weekday</th>\n",
       "    </tr>\n",
       "  </thead>\n",
       "  <tbody>\n",
       "    <tr>\n",
       "      <th>0</th>\n",
       "      <td>20151101001</td>\n",
       "      <td>11/1/2015 0:00</td>\n",
       "      <td>1</td>\n",
       "      <td>15.0</td>\n",
       "      <td>1</td>\n",
       "      <td>1</td>\n",
       "      <td>11</td>\n",
       "      <td>2015</td>\n",
       "      <td>0</td>\n",
       "      <td>1</td>\n",
       "      <td>0</td>\n",
       "      <td>0</td>\n",
       "      <td>0</td>\n",
       "      <td>0</td>\n",
       "      <td>0</td>\n",
       "      <td>0</td>\n",
       "      <td>1</td>\n",
       "      <td>0</td>\n",
       "    </tr>\n",
       "    <tr>\n",
       "      <th>1</th>\n",
       "      <td>20151101011</td>\n",
       "      <td>11/1/2015 1:00</td>\n",
       "      <td>1</td>\n",
       "      <td>13.0</td>\n",
       "      <td>1</td>\n",
       "      <td>1</td>\n",
       "      <td>11</td>\n",
       "      <td>2015</td>\n",
       "      <td>1</td>\n",
       "      <td>1</td>\n",
       "      <td>0</td>\n",
       "      <td>0</td>\n",
       "      <td>0</td>\n",
       "      <td>0</td>\n",
       "      <td>0</td>\n",
       "      <td>0</td>\n",
       "      <td>1</td>\n",
       "      <td>0</td>\n",
       "    </tr>\n",
       "    <tr>\n",
       "      <th>2</th>\n",
       "      <td>20151101021</td>\n",
       "      <td>11/1/2015 2:00</td>\n",
       "      <td>1</td>\n",
       "      <td>10.0</td>\n",
       "      <td>1</td>\n",
       "      <td>1</td>\n",
       "      <td>11</td>\n",
       "      <td>2015</td>\n",
       "      <td>2</td>\n",
       "      <td>1</td>\n",
       "      <td>0</td>\n",
       "      <td>0</td>\n",
       "      <td>0</td>\n",
       "      <td>0</td>\n",
       "      <td>0</td>\n",
       "      <td>0</td>\n",
       "      <td>1</td>\n",
       "      <td>0</td>\n",
       "    </tr>\n",
       "    <tr>\n",
       "      <th>3</th>\n",
       "      <td>20151101031</td>\n",
       "      <td>11/1/2015 3:00</td>\n",
       "      <td>1</td>\n",
       "      <td>7.0</td>\n",
       "      <td>1</td>\n",
       "      <td>1</td>\n",
       "      <td>11</td>\n",
       "      <td>2015</td>\n",
       "      <td>3</td>\n",
       "      <td>1</td>\n",
       "      <td>0</td>\n",
       "      <td>0</td>\n",
       "      <td>0</td>\n",
       "      <td>0</td>\n",
       "      <td>0</td>\n",
       "      <td>0</td>\n",
       "      <td>1</td>\n",
       "      <td>0</td>\n",
       "    </tr>\n",
       "    <tr>\n",
       "      <th>4</th>\n",
       "      <td>20151101041</td>\n",
       "      <td>11/1/2015 4:00</td>\n",
       "      <td>1</td>\n",
       "      <td>9.0</td>\n",
       "      <td>1</td>\n",
       "      <td>1</td>\n",
       "      <td>11</td>\n",
       "      <td>2015</td>\n",
       "      <td>4</td>\n",
       "      <td>1</td>\n",
       "      <td>0</td>\n",
       "      <td>0</td>\n",
       "      <td>0</td>\n",
       "      <td>0</td>\n",
       "      <td>0</td>\n",
       "      <td>0</td>\n",
       "      <td>1</td>\n",
       "      <td>0</td>\n",
       "    </tr>\n",
       "  </tbody>\n",
       "</table>\n",
       "</div>"
      ],
      "text/plain": [
       "            ID        DateTime  Junction  Vehicles  WeekDay  Date  Month  \\\n",
       "0  20151101001  11/1/2015 0:00         1      15.0        1     1     11   \n",
       "1  20151101011  11/1/2015 1:00         1      13.0        1     1     11   \n",
       "2  20151101021  11/1/2015 2:00         1      10.0        1     1     11   \n",
       "3  20151101031  11/1/2015 3:00         1       7.0        1     1     11   \n",
       "4  20151101041  11/1/2015 4:00         1       9.0        1     1     11   \n",
       "\n",
       "   Year  Time  Sunday  Monday  Tuesday  Wednesday  Thursday  Friday  Saturday  \\\n",
       "0  2015     0       1       0        0          0         0       0         0   \n",
       "1  2015     1       1       0        0          0         0       0         0   \n",
       "2  2015     2       1       0        0          0         0       0         0   \n",
       "3  2015     3       1       0        0          0         0       0         0   \n",
       "4  2015     4       1       0        0          0         0       0         0   \n",
       "\n",
       "   Weekend  Weekday  \n",
       "0        1        0  \n",
       "1        1        0  \n",
       "2        1        0  \n",
       "3        1        0  \n",
       "4        1        0  "
      ]
     },
     "execution_count": 301,
     "metadata": {},
     "output_type": "execute_result"
    }
   ],
   "source": [
    "VehicleData.head()"
   ]
  },
  {
   "cell_type": "code",
   "execution_count": null,
   "metadata": {
    "collapsed": true
   },
   "outputs": [],
   "source": [
    "VehicleData.info()"
   ]
  },
  {
   "cell_type": "code",
   "execution_count": null,
   "metadata": {
    "collapsed": true
   },
   "outputs": [],
   "source": [
    "VehicleData['Date'].to"
   ]
  },
  {
   "cell_type": "code",
   "execution_count": 280,
   "metadata": {},
   "outputs": [
    {
     "data": {
      "text/html": [
       "<div>\n",
       "<style>\n",
       "    .dataframe thead tr:only-child th {\n",
       "        text-align: right;\n",
       "    }\n",
       "\n",
       "    .dataframe thead th {\n",
       "        text-align: left;\n",
       "    }\n",
       "\n",
       "    .dataframe tbody tr th {\n",
       "        vertical-align: top;\n",
       "    }\n",
       "</style>\n",
       "<table border=\"1\" class=\"dataframe\">\n",
       "  <thead>\n",
       "    <tr style=\"text-align: right;\">\n",
       "      <th></th>\n",
       "      <th>ID</th>\n",
       "      <th>Junction</th>\n",
       "      <th>Vehicles</th>\n",
       "      <th>WeekDay</th>\n",
       "      <th>Date</th>\n",
       "      <th>Month</th>\n",
       "      <th>Year</th>\n",
       "      <th>Time</th>\n",
       "      <th>Sunday</th>\n",
       "      <th>Monday</th>\n",
       "      <th>Tuesday</th>\n",
       "      <th>Wednesday</th>\n",
       "      <th>Thursday</th>\n",
       "      <th>Friday</th>\n",
       "      <th>Saturday</th>\n",
       "      <th>Weekend</th>\n",
       "      <th>Unnamed: 17</th>\n",
       "    </tr>\n",
       "  </thead>\n",
       "  <tbody>\n",
       "    <tr>\n",
       "      <th>count</th>\n",
       "      <td>4.812000e+04</td>\n",
       "      <td>48120.000000</td>\n",
       "      <td>48120.000000</td>\n",
       "      <td>48120.000000</td>\n",
       "      <td>48120.000000</td>\n",
       "      <td>48120.000000</td>\n",
       "      <td>48120.000000</td>\n",
       "      <td>48120.000000</td>\n",
       "      <td>48120.000000</td>\n",
       "      <td>48120.000000</td>\n",
       "      <td>48120.000000</td>\n",
       "      <td>48120.000000</td>\n",
       "      <td>48120.000000</td>\n",
       "      <td>48120.000000</td>\n",
       "      <td>48120.000000</td>\n",
       "      <td>48120.000000</td>\n",
       "      <td>48120.000000</td>\n",
       "    </tr>\n",
       "    <tr>\n",
       "      <th>mean</th>\n",
       "      <td>2.016330e+10</td>\n",
       "      <td>2.180549</td>\n",
       "      <td>22.791334</td>\n",
       "      <td>3.994015</td>\n",
       "      <td>15.700748</td>\n",
       "      <td>5.884289</td>\n",
       "      <td>2016.269825</td>\n",
       "      <td>11.500000</td>\n",
       "      <td>0.143142</td>\n",
       "      <td>0.143142</td>\n",
       "      <td>0.143142</td>\n",
       "      <td>0.143142</td>\n",
       "      <td>0.143142</td>\n",
       "      <td>0.143142</td>\n",
       "      <td>0.141147</td>\n",
       "      <td>0.284289</td>\n",
       "      <td>0.715711</td>\n",
       "    </tr>\n",
       "    <tr>\n",
       "      <th>std</th>\n",
       "      <td>5.944854e+06</td>\n",
       "      <td>0.966955</td>\n",
       "      <td>20.750063</td>\n",
       "      <td>1.997516</td>\n",
       "      <td>8.784073</td>\n",
       "      <td>3.569872</td>\n",
       "      <td>0.616093</td>\n",
       "      <td>6.922258</td>\n",
       "      <td>0.350221</td>\n",
       "      <td>0.350221</td>\n",
       "      <td>0.350221</td>\n",
       "      <td>0.350221</td>\n",
       "      <td>0.350221</td>\n",
       "      <td>0.350221</td>\n",
       "      <td>0.348177</td>\n",
       "      <td>0.451080</td>\n",
       "      <td>0.451080</td>\n",
       "    </tr>\n",
       "    <tr>\n",
       "      <th>min</th>\n",
       "      <td>2.015110e+10</td>\n",
       "      <td>1.000000</td>\n",
       "      <td>1.000000</td>\n",
       "      <td>1.000000</td>\n",
       "      <td>1.000000</td>\n",
       "      <td>1.000000</td>\n",
       "      <td>2015.000000</td>\n",
       "      <td>0.000000</td>\n",
       "      <td>0.000000</td>\n",
       "      <td>0.000000</td>\n",
       "      <td>0.000000</td>\n",
       "      <td>0.000000</td>\n",
       "      <td>0.000000</td>\n",
       "      <td>0.000000</td>\n",
       "      <td>0.000000</td>\n",
       "      <td>0.000000</td>\n",
       "      <td>0.000000</td>\n",
       "    </tr>\n",
       "    <tr>\n",
       "      <th>25%</th>\n",
       "      <td>2.016042e+10</td>\n",
       "      <td>1.000000</td>\n",
       "      <td>9.000000</td>\n",
       "      <td>2.000000</td>\n",
       "      <td>8.000000</td>\n",
       "      <td>3.000000</td>\n",
       "      <td>2016.000000</td>\n",
       "      <td>5.750000</td>\n",
       "      <td>0.000000</td>\n",
       "      <td>0.000000</td>\n",
       "      <td>0.000000</td>\n",
       "      <td>0.000000</td>\n",
       "      <td>0.000000</td>\n",
       "      <td>0.000000</td>\n",
       "      <td>0.000000</td>\n",
       "      <td>0.000000</td>\n",
       "      <td>0.000000</td>\n",
       "    </tr>\n",
       "    <tr>\n",
       "      <th>50%</th>\n",
       "      <td>2.016093e+10</td>\n",
       "      <td>2.000000</td>\n",
       "      <td>15.000000</td>\n",
       "      <td>4.000000</td>\n",
       "      <td>16.000000</td>\n",
       "      <td>5.000000</td>\n",
       "      <td>2016.000000</td>\n",
       "      <td>11.500000</td>\n",
       "      <td>0.000000</td>\n",
       "      <td>0.000000</td>\n",
       "      <td>0.000000</td>\n",
       "      <td>0.000000</td>\n",
       "      <td>0.000000</td>\n",
       "      <td>0.000000</td>\n",
       "      <td>0.000000</td>\n",
       "      <td>0.000000</td>\n",
       "      <td>1.000000</td>\n",
       "    </tr>\n",
       "    <tr>\n",
       "      <th>75%</th>\n",
       "      <td>2.017023e+10</td>\n",
       "      <td>3.000000</td>\n",
       "      <td>29.000000</td>\n",
       "      <td>6.000000</td>\n",
       "      <td>23.000000</td>\n",
       "      <td>9.000000</td>\n",
       "      <td>2017.000000</td>\n",
       "      <td>17.250000</td>\n",
       "      <td>0.000000</td>\n",
       "      <td>0.000000</td>\n",
       "      <td>0.000000</td>\n",
       "      <td>0.000000</td>\n",
       "      <td>0.000000</td>\n",
       "      <td>0.000000</td>\n",
       "      <td>0.000000</td>\n",
       "      <td>1.000000</td>\n",
       "      <td>1.000000</td>\n",
       "    </tr>\n",
       "    <tr>\n",
       "      <th>max</th>\n",
       "      <td>2.017063e+10</td>\n",
       "      <td>4.000000</td>\n",
       "      <td>180.000000</td>\n",
       "      <td>7.000000</td>\n",
       "      <td>31.000000</td>\n",
       "      <td>12.000000</td>\n",
       "      <td>2017.000000</td>\n",
       "      <td>23.000000</td>\n",
       "      <td>1.000000</td>\n",
       "      <td>1.000000</td>\n",
       "      <td>1.000000</td>\n",
       "      <td>1.000000</td>\n",
       "      <td>1.000000</td>\n",
       "      <td>1.000000</td>\n",
       "      <td>1.000000</td>\n",
       "      <td>1.000000</td>\n",
       "      <td>1.000000</td>\n",
       "    </tr>\n",
       "  </tbody>\n",
       "</table>\n",
       "</div>"
      ],
      "text/plain": [
       "                 ID      Junction      Vehicles       WeekDay          Date  \\\n",
       "count  4.812000e+04  48120.000000  48120.000000  48120.000000  48120.000000   \n",
       "mean   2.016330e+10      2.180549     22.791334      3.994015     15.700748   \n",
       "std    5.944854e+06      0.966955     20.750063      1.997516      8.784073   \n",
       "min    2.015110e+10      1.000000      1.000000      1.000000      1.000000   \n",
       "25%    2.016042e+10      1.000000      9.000000      2.000000      8.000000   \n",
       "50%    2.016093e+10      2.000000     15.000000      4.000000     16.000000   \n",
       "75%    2.017023e+10      3.000000     29.000000      6.000000     23.000000   \n",
       "max    2.017063e+10      4.000000    180.000000      7.000000     31.000000   \n",
       "\n",
       "              Month          Year          Time        Sunday        Monday  \\\n",
       "count  48120.000000  48120.000000  48120.000000  48120.000000  48120.000000   \n",
       "mean       5.884289   2016.269825     11.500000      0.143142      0.143142   \n",
       "std        3.569872      0.616093      6.922258      0.350221      0.350221   \n",
       "min        1.000000   2015.000000      0.000000      0.000000      0.000000   \n",
       "25%        3.000000   2016.000000      5.750000      0.000000      0.000000   \n",
       "50%        5.000000   2016.000000     11.500000      0.000000      0.000000   \n",
       "75%        9.000000   2017.000000     17.250000      0.000000      0.000000   \n",
       "max       12.000000   2017.000000     23.000000      1.000000      1.000000   \n",
       "\n",
       "            Tuesday     Wednesday      Thursday        Friday      Saturday  \\\n",
       "count  48120.000000  48120.000000  48120.000000  48120.000000  48120.000000   \n",
       "mean       0.143142      0.143142      0.143142      0.143142      0.141147   \n",
       "std        0.350221      0.350221      0.350221      0.350221      0.348177   \n",
       "min        0.000000      0.000000      0.000000      0.000000      0.000000   \n",
       "25%        0.000000      0.000000      0.000000      0.000000      0.000000   \n",
       "50%        0.000000      0.000000      0.000000      0.000000      0.000000   \n",
       "75%        0.000000      0.000000      0.000000      0.000000      0.000000   \n",
       "max        1.000000      1.000000      1.000000      1.000000      1.000000   \n",
       "\n",
       "            Weekend   Unnamed: 17  \n",
       "count  48120.000000  48120.000000  \n",
       "mean       0.284289      0.715711  \n",
       "std        0.451080      0.451080  \n",
       "min        0.000000      0.000000  \n",
       "25%        0.000000      0.000000  \n",
       "50%        0.000000      1.000000  \n",
       "75%        1.000000      1.000000  \n",
       "max        1.000000      1.000000  "
      ]
     },
     "execution_count": 280,
     "metadata": {},
     "output_type": "execute_result"
    }
   ],
   "source": [
    "VehicleData.describe()"
   ]
  },
  {
   "cell_type": "code",
   "execution_count": null,
   "metadata": {
    "collapsed": true
   },
   "outputs": [],
   "source": [
    "sns.distplot(VehicleData['Vehicles'])"
   ]
  },
  {
   "cell_type": "code",
   "execution_count": 327,
   "metadata": {},
   "outputs": [
    {
     "data": {
      "text/plain": [
       "<seaborn.axisgrid.FacetGrid at 0x2055d9d0>"
      ]
     },
     "execution_count": 327,
     "metadata": {},
     "output_type": "execute_result"
    },
    {
     "data": {
      "image/png": "[encoded data removed]",
      "text/plain": [
       "<matplotlib.figure.Figure at 0x2055da50>"
      ]
     },
     "metadata": {},
     "output_type": "display_data"
    }
   ],
   "source": [
    "sns.lmplot(x='Time',y='Vehicles',data=VehicleData,col='WeekDay',palette='coolwarm',aspect=0.1,size=15)"
   ]
  },
  {
   "cell_type": "code",
   "execution_count": 347,
   "metadata": {},
   "outputs": [
    {
     "data": {
      "text/plain": [
       "<matplotlib.axes._subplots.AxesSubplot at 0x23bb4a50>"
      ]
     },
     "execution_count": 347,
     "metadata": {},
     "output_type": "execute_result"
    },
    {
     "data": {
      "image/png": "[encoded data removed]",
      "text/plain": [
       "<matplotlib.figure.Figure at 0x23bb44d0>"
      ]
     },
     "metadata": {},
     "output_type": "display_data"
    }
   ],
   "source": [
    "##plt.boxplot( VehicleData['Vehicles'],vert=True,patch_artist=True)\n",
    "sns.boxplot(x='Time',y='Vehicles',data=VehicleData,palette='rainbow')"
   ]
  },
  {
   "cell_type": "code",
   "execution_count": 328,
   "metadata": {},
   "outputs": [
    {
     "data": {
      "text/plain": [
       "<seaborn.axisgrid.FacetGrid at 0x164ed7b0>"
      ]
     },
     "execution_count": 328,
     "metadata": {},
     "output_type": "execute_result"
    },
    {
     "data": {
      "image/png": "[encoded data removed]",
      "text/plain": [
       "<matplotlib.figure.Figure at 0x203b9ef0>"
      ]
     },
     "metadata": {},
     "output_type": "display_data"
    }
   ],
   "source": [
    "sns.lmplot(x='Time',y='Vehicles',data=VehicleData,palette='coolwarm')"
   ]
  },
  {
   "cell_type": "code",
   "execution_count": 336,
   "metadata": {},
   "outputs": [
    {
     "data": {
      "text/plain": [
       "Time\n",
       "0     23.540648\n",
       "1     19.654863\n",
       "2     17.102743\n",
       "3     14.847382\n",
       "4     12.973067\n",
       "5     12.173566\n",
       "6     12.980050\n",
       "7     14.703242\n",
       "8     16.402993\n",
       "9     19.379551\n",
       "10    24.229925\n",
       "11    27.495262\n",
       "12    28.403990\n",
       "13    25.588529\n",
       "14    27.702743\n",
       "15    27.650374\n",
       "16    26.674314\n",
       "17    26.648379\n",
       "18    28.095262\n",
       "19    29.854863\n",
       "20    29.824938\n",
       "21    28.202993\n",
       "22    27.226933\n",
       "23    25.635411\n",
       "Name: Vehicles, dtype: float64"
      ]
     },
     "execution_count": 336,
     "metadata": {},
     "output_type": "execute_result"
    }
   ],
   "source": [
    "VehicleData.groupby(VehicleData['Time'])['Vehicles'].mean()"
   ]
  },
  {
   "cell_type": "code",
   "execution_count": 329,
   "metadata": {},
   "outputs": [
    {
     "data": {
      "text/plain": [
       "WeekDay\n",
       "1    17.134727\n",
       "2    24.409408\n",
       "3    25.286731\n",
       "4    25.149681\n",
       "5    25.152875\n",
       "6    23.802120\n",
       "7    18.544611\n",
       "Name: Vehicles, dtype: float64"
      ]
     },
     "execution_count": 329,
     "metadata": {},
     "output_type": "execute_result"
    }
   ],
   "source": [
    "VehicleData.groupby(VehicleData['WeekDay'])['Vehicles'].mean()"
   ]
  },
  {
   "cell_type": "code",
   "execution_count": 313,
   "metadata": {
    "collapsed": true
   },
   "outputs": [],
   "source": [
    "def time_group(Time):\n",
    "    vTime_Grp = \"0\"\n",
    "    if Time == 3:\n",
    "       vTime_Grp = \"1\"\n",
    "    elif Time == 4:\n",
    "        vTime_Grp = \"1\"\n",
    "    elif Time == 5:\n",
    "        vTime_Grp = \"1\"\n",
    "    elif Time == 6:\n",
    "        vTime_Grp = \"1\"\n",
    "    elif Time == 7:\n",
    "        vTime_Grp = \"1\"\n",
    "    elif Time == 0:\n",
    "        vTime_Grp = \"2\"\n",
    "    elif Time == 1:\n",
    "        vTime_Grp = \"2\"\n",
    "    elif Time == 2:\n",
    "        vTime_Grp = \"2\"\n",
    "    elif Time == 8:\n",
    "        vTime_Grp = \"2\"\n",
    "    elif Time == 9:\n",
    "        vTime_Grp = \"2\"\n",
    "    elif Time == 10:\n",
    "        vTime_Grp = \"2\"\n",
    "    elif Time == 23:\n",
    "        vTime_Grp = \"1\"\n",
    "    else:\n",
    "        vTime_Grp = \"1\"\n",
    "    return vTime_Grp\n",
    "    \n",
    "    \n",
    "    "
   ]
  },
  {
   "cell_type": "code",
   "execution_count": 314,
   "metadata": {
    "collapsed": true
   },
   "outputs": [],
   "source": [
    "VehicleData['Time_GRP'] = VehicleData['Time'].apply(time_group)"
   ]
  },
  {
   "cell_type": "code",
   "execution_count": 315,
   "metadata": {
    "collapsed": true
   },
   "outputs": [],
   "source": [
    "def month_group(Mon):\n",
    "    vMonth_Grp = \"0\"\n",
    "    if Mon == 1:\n",
    "       vMonth_Grp = \"1\"\n",
    "    elif Mon == 11:\n",
    "        vMonth_Grp = \"1\"\n",
    "    elif Mon == 12:\n",
    "        vMonth_Grp = \"1\"\n",
    "    elif Mon == 2:\n",
    "        vMonth_Grp = \"2\"\n",
    "    elif Mon == 3:\n",
    "        vMonth_Grp = \"2\"\n",
    "    elif Mon == 7:\n",
    "        vMonth_Grp = \"2\"\n",
    "    elif Mon == 8:\n",
    "        vMonth_Grp = \"2\"\n",
    "    else:\n",
    "        vMonth_Grp = \"0\"\n",
    "    return vMonth_Grp"
   ]
  },
  {
   "cell_type": "code",
   "execution_count": 316,
   "metadata": {
    "collapsed": true
   },
   "outputs": [],
   "source": [
    "VehicleData['Month_GRP'] = VehicleData['Month'].apply(month_group)"
   ]
  },
  {
   "cell_type": "code",
   "execution_count": null,
   "metadata": {
    "collapsed": true
   },
   "outputs": [],
   "source": [
    "VehicleData['Month_GRP']"
   ]
  },
  {
   "cell_type": "code",
   "execution_count": null,
   "metadata": {
    "collapsed": true
   },
   "outputs": [],
   "source": [
    "VehicleData.to_csv(\"Feature_AV.csv\")"
   ]
  },
  {
   "cell_type": "code",
   "execution_count": 317,
   "metadata": {},
   "outputs": [
    {
     "name": "stdout",
     "output_type": "stream",
     "text": [
      "<class 'pandas.core.frame.DataFrame'>\n",
      "RangeIndex: 48120 entries, 0 to 48119\n",
      "Data columns (total 20 columns):\n",
      "ID           48120 non-null int64\n",
      "DateTime     48120 non-null object\n",
      "Junction     48120 non-null int64\n",
      "Vehicles     48120 non-null float64\n",
      "WeekDay      48120 non-null int64\n",
      "Date         48120 non-null int64\n",
      "Month        48120 non-null int64\n",
      "Year         48120 non-null int64\n",
      "Time         48120 non-null int64\n",
      "Sunday       48120 non-null int64\n",
      "Monday       48120 non-null int64\n",
      "Tuesday      48120 non-null int64\n",
      "Wednesday    48120 non-null int64\n",
      "Thursday     48120 non-null int64\n",
      "Friday       48120 non-null int64\n",
      "Saturday     48120 non-null int64\n",
      "Weekend      48120 non-null int64\n",
      "Weekday      48120 non-null int64\n",
      "Time_GRP     48120 non-null object\n",
      "Month_GRP    48120 non-null object\n",
      "dtypes: float64(1), int64(16), object(3)\n",
      "memory usage: 6.8+ MB\n"
     ]
    }
   ],
   "source": [
    "VehicleData.info()"
   ]
  },
  {
   "cell_type": "code",
   "execution_count": null,
   "metadata": {
    "collapsed": true
   },
   "outputs": [],
   "source": []
  },
  {
   "cell_type": "code",
   "execution_count": null,
   "metadata": {
    "collapsed": true
   },
   "outputs": [],
   "source": [
    "VehicleData.head()"
   ]
  },
  {
   "cell_type": "code",
   "execution_count": null,
   "metadata": {
    "collapsed": true
   },
   "outputs": [],
   "source": [
    "X = VehicleData[['Junction','WeekDay','Time','Time_GRP','Month_GRP']]\n",
    "y = VehicleData['Vehicles']\n",
    "y = y.apply(pd.to_numeric, errors='coerce')"
   ]
  },
  {
   "cell_type": "code",
   "execution_count": null,
   "metadata": {
    "collapsed": true
   },
   "outputs": [],
   "source": []
  },
  {
   "cell_type": "code",
   "execution_count": null,
   "metadata": {
    "collapsed": true
   },
   "outputs": [],
   "source": [
    "from sklearn.model_selection import train_test_split\n",
    "X_train, X_test, y_train, y_test = train_test_split(X, y, test_size=0.4, random_state=101)"
   ]
  },
  {
   "cell_type": "code",
   "execution_count": null,
   "metadata": {
    "collapsed": true
   },
   "outputs": [],
   "source": [
    "from sklearn.linear_model import LinearRegression"
   ]
  },
  {
   "cell_type": "code",
   "execution_count": null,
   "metadata": {
    "collapsed": true
   },
   "outputs": [],
   "source": [
    "lm = LinearRegression()\n",
    "lm.fit(X_train,y_train)"
   ]
  },
  {
   "cell_type": "code",
   "execution_count": null,
   "metadata": {
    "collapsed": true
   },
   "outputs": [],
   "source": [
    "coeff_df = pd.DataFrame(lm.coef_,X.columns,columns=['Coefficient'])\n",
    "coeff_df"
   ]
  },
  {
   "cell_type": "code",
   "execution_count": null,
   "metadata": {
    "collapsed": true
   },
   "outputs": [],
   "source": [
    "predictions = lm.predict(X_test)"
   ]
  },
  {
   "cell_type": "code",
   "execution_count": null,
   "metadata": {
    "collapsed": true
   },
   "outputs": [],
   "source": [
    "plt.scatter(y_test,predictions)"
   ]
  },
  {
   "cell_type": "code",
   "execution_count": null,
   "metadata": {
    "collapsed": true
   },
   "outputs": [],
   "source": [
    "from sklearn import metrics"
   ]
  },
  {
   "cell_type": "code",
   "execution_count": null,
   "metadata": {
    "collapsed": true
   },
   "outputs": [],
   "source": [
    "print('MAE:', metrics.mean_absolute_error(y_test, predictions))\n",
    "print('MSE:', metrics.mean_squared_error(y_test, predictions))\n",
    "print('RMSE:', np.sqrt(metrics.mean_squared_error(y_test, predictions)))"
   ]
  },
  {
   "cell_type": "code",
   "execution_count": 302,
   "metadata": {
    "collapsed": true
   },
   "outputs": [],
   "source": [
    "def time_group(Time):\n",
    "    vTime_Grp = \"A\"\n",
    "    if Time == 3:\n",
    "       vTime_Grp = \"B\"\n",
    "    elif Time == 4:\n",
    "        vTime_Grp = \"B\"\n",
    "    elif Time == 5:\n",
    "        vTime_Grp = \"B\"\n",
    "    elif Time == 6:\n",
    "        vTime_Grp = \"B\"\n",
    "    elif Time == 7:\n",
    "        vTime_Grp = \"B\"\n",
    "    elif Time == 0:\n",
    "        vTime_Grp = \"C\"\n",
    "    elif Time == 1:\n",
    "        vTime_Grp = \"C\"\n",
    "    elif Time == 2:\n",
    "        vTime_Grp = \"C\"\n",
    "    elif Time == 8:\n",
    "        vTime_Grp = \"C\"\n",
    "    elif Time == 9:\n",
    "        vTime_Grp = \"C\"\n",
    "    elif Time == 10:\n",
    "        vTime_Grp = \"C\"\n",
    "    elif Time == 23:\n",
    "        vTime_Grp = \"C\"\n",
    "    else:\n",
    "        vTime_Grp = \"A\"\n",
    "    return vTime_Grp"
   ]
  },
  {
   "cell_type": "code",
   "execution_count": 303,
   "metadata": {
    "collapsed": true
   },
   "outputs": [],
   "source": [
    "VehicleData['Time_GRP'] = VehicleData['Time'].apply(time_group)"
   ]
  },
  {
   "cell_type": "code",
   "execution_count": 304,
   "metadata": {
    "collapsed": true
   },
   "outputs": [],
   "source": [
    "def month_group(Mon):\n",
    "    vMonth_Grp = \"X\"\n",
    "    if Mon == 1:\n",
    "       vMonth_Grp = \"Y\"\n",
    "    elif Mon == 11:\n",
    "        vMonth_Grp = \"Y\"\n",
    "    elif Mon == 12:\n",
    "        vMonth_Grp = \"Y\"\n",
    "    elif Mon == 2:\n",
    "        vMonth_Grp = \"Z\"\n",
    "    elif Mon == 3:\n",
    "        vMonth_Grp = \"Z\"\n",
    "    elif Mon == 7:\n",
    "        vMonth_Grp = \"Z\"\n",
    "    elif Mon == 8:\n",
    "        vMonth_Grp = \"Z\"\n",
    "    else:\n",
    "        vMonth_Grp = \"X\"\n",
    "    return vMonth_Grp"
   ]
  },
  {
   "cell_type": "code",
   "execution_count": 305,
   "metadata": {
    "collapsed": true
   },
   "outputs": [],
   "source": [
    "VehicleData['Month_GRP'] = VehicleData['Month'].apply(month_group)"
   ]
  },
  {
   "cell_type": "code",
   "execution_count": 306,
   "metadata": {
    "collapsed": true
   },
   "outputs": [],
   "source": [
    "Month_1 = pd.get_dummies(VehicleData['Month_GRP'],drop_first=True)\n",
    "Time_1 = pd.get_dummies(VehicleData['Time_GRP'],drop_first=True)\n",
    "Year_1 = pd.get_dummies(VehicleData['Year'],drop_first=True)"
   ]
  },
  {
   "cell_type": "code",
   "execution_count": 310,
   "metadata": {},
   "outputs": [
    {
     "name": "stdout",
     "output_type": "stream",
     "text": [
      "<class 'pandas.core.frame.DataFrame'>\n",
      "RangeIndex: 48120 entries, 0 to 48119\n",
      "Data columns (total 28 columns):\n",
      "ID           48120 non-null int64\n",
      "DateTime     48120 non-null object\n",
      "Junction     48120 non-null int64\n",
      "Vehicles     48120 non-null float64\n",
      "WeekDay      48120 non-null int64\n",
      "Date         48120 non-null int64\n",
      "Month        48120 non-null int64\n",
      "Year         48120 non-null int64\n",
      "Time         48120 non-null int64\n",
      "Sunday       48120 non-null int64\n",
      "Monday       48120 non-null int64\n",
      "Tuesday      48120 non-null int64\n",
      "Wednesday    48120 non-null int64\n",
      "Thursday     48120 non-null int64\n",
      "Friday       48120 non-null int64\n",
      "Saturday     48120 non-null int64\n",
      "Weekend      48120 non-null int64\n",
      "Weekday      48120 non-null int64\n",
      "Time_GRP     48120 non-null object\n",
      "Month_GRP    48120 non-null object\n",
      "Y            48120 non-null uint8\n",
      "Z            48120 non-null uint8\n",
      "Y            48120 non-null uint8\n",
      "Z            48120 non-null uint8\n",
      "Y            48120 non-null uint8\n",
      "Z            48120 non-null uint8\n",
      "Y            48120 non-null uint8\n",
      "Z            48120 non-null uint8\n",
      "dtypes: float64(1), int64(16), object(3), uint8(8)\n",
      "memory usage: 7.2+ MB\n"
     ]
    }
   ],
   "source": [
    "VehicleData = pd.concat([VehicleData,Month_1],axis=1)\n",
    "VehicleData.info()"
   ]
  },
  {
   "cell_type": "markdown",
   "metadata": {},
   "source": [
    "Month_1 = pd.get_dummies(VehicleData['Month_GRP'],drop_first=True)\n",
    "Time_1 = pd.get_dummies(VehicleData['Time_GRP'],drop_first=True)"
   ]
  },
  {
   "cell_type": "code",
   "execution_count": 296,
   "metadata": {
    "collapsed": true
   },
   "outputs": [],
   "source": [
    "VehicleData = pd.concat([VehicleData,Month_1,Time_1,Year_1],axis=1)"
   ]
  },
  {
   "cell_type": "code",
   "execution_count": 319,
   "metadata": {},
   "outputs": [
    {
     "name": "stdout",
     "output_type": "stream",
     "text": [
      "<class 'pandas.core.frame.DataFrame'>\n",
      "Int64Index: 14592 entries, 0 to 14591\n",
      "Data columns (total 20 columns):\n",
      "ID           14592 non-null int64\n",
      "DateTime     14592 non-null object\n",
      "Junction     14592 non-null int64\n",
      "Vehicles     14592 non-null float64\n",
      "WeekDay      14592 non-null int64\n",
      "Date         14592 non-null int64\n",
      "Month        14592 non-null int64\n",
      "Year         14592 non-null int64\n",
      "Time         14592 non-null int64\n",
      "Sunday       14592 non-null int64\n",
      "Monday       14592 non-null int64\n",
      "Tuesday      14592 non-null int64\n",
      "Wednesday    14592 non-null int64\n",
      "Thursday     14592 non-null int64\n",
      "Friday       14592 non-null int64\n",
      "Saturday     14592 non-null int64\n",
      "Weekend      14592 non-null int64\n",
      "Weekday      14592 non-null int64\n",
      "Time_GRP     14592 non-null object\n",
      "Month_GRP    14592 non-null object\n",
      "dtypes: float64(1), int64(16), object(3)\n",
      "memory usage: 2.2+ MB\n"
     ]
    }
   ],
   "source": [
    "VehicleData_1.info()"
   ]
  },
  {
   "cell_type": "code",
   "execution_count": null,
   "metadata": {
    "collapsed": true
   },
   "outputs": [],
   "source": []
  },
  {
   "cell_type": "code",
   "execution_count": 230,
   "metadata": {
    "collapsed": true
   },
   "outputs": [],
   "source": [
    "X = VehicleData_1[['WeekDay','Date','Month','Year','Time','Y','Z','B','C','Saturday','Sunday','Monday','Tuesday','Wednesday','Thursday','Friday']]\n",
    "y = VehicleData_1['Vehicles']\n",
    "y = y.apply(pd.to_numeric, errors='coerce')"
   ]
  },
  {
   "cell_type": "code",
   "execution_count": 231,
   "metadata": {
    "collapsed": true
   },
   "outputs": [],
   "source": [
    "from sklearn.model_selection import train_test_split\n",
    "X_train, X_test, y_train, y_test = train_test_split(X, y, test_size=0.4, random_state=101)"
   ]
  },
  {
   "cell_type": "code",
   "execution_count": 232,
   "metadata": {},
   "outputs": [
    {
     "data": {
      "text/plain": [
       "LogisticRegression(C=1.0, class_weight=None, dual=False, fit_intercept=True,\n",
       "          intercept_scaling=1, max_iter=100, multi_class='ovr', n_jobs=1,\n",
       "          penalty='l2', random_state=None, solver='liblinear', tol=0.0001,\n",
       "          verbose=0, warm_start=False)"
      ]
     },
     "execution_count": 232,
     "metadata": {},
     "output_type": "execute_result"
    }
   ],
   "source": [
    "from sklearn.linear_model import LogisticRegression\n",
    "logmodel = LogisticRegression()\n",
    "logmodel.fit(X_train,y_train)"
   ]
  },
  {
   "cell_type": "code",
   "execution_count": 233,
   "metadata": {
    "collapsed": true
   },
   "outputs": [],
   "source": [
    "predictions = logmodel.predict(X_test)"
   ]
  },
  {
   "cell_type": "code",
   "execution_count": 234,
   "metadata": {},
   "outputs": [
    {
     "data": {
      "text/plain": [
       "array([ 41.,  43.,  53., ...,  25.,  26.,  51.])"
      ]
     },
     "execution_count": 234,
     "metadata": {},
     "output_type": "execute_result"
    }
   ],
   "source": [
    "predictions"
   ]
  },
  {
   "cell_type": "code",
   "execution_count": 235,
   "metadata": {},
   "outputs": [
    {
     "name": "stdout",
     "output_type": "stream",
     "text": [
      "('MAE:', 16.663525783793045)\n",
      "('MSE:', 525.96762035292102)\n",
      "('RMSE:', 22.933983961643495)\n"
     ]
    }
   ],
   "source": [
    "print('MAE:', metrics.mean_absolute_error(y_test, predictions))\n",
    "print('MSE:', metrics.mean_squared_error(y_test, predictions))\n",
    "print('RMSE:', np.sqrt(metrics.mean_squared_error(y_test, predictions)))"
   ]
  },
  {
   "cell_type": "code",
   "execution_count": 321,
   "metadata": {
    "collapsed": true
   },
   "outputs": [],
   "source": [
    "##X = VehicleData_1[['Date','Month','Time',2016,2017,'Y','Z','B','C','Weekend','Saturday','Sunday','Monday','Tuesday','Wednesday','Thursday','Friday']]\n",
    "X = VehicleData_1[['Date','Weekend','Month_GRP','Time_GRP','Weekend','Saturday','Sunday','Monday','Tuesday','Wednesday','Thursday','Friday']]\n",
    "y = VehicleData_1['Vehicles']\n",
    "y = y.apply(pd.to_numeric, errors='coerce')\n",
    "from sklearn.model_selection import train_test_split\n",
    "X_train, X_test, y_train, y_test = train_test_split(X, y, test_size=0.4, random_state=101)"
   ]
  },
  {
   "cell_type": "code",
   "execution_count": 322,
   "metadata": {},
   "outputs": [
    {
     "data": {
      "text/html": [
       "<div>\n",
       "<style>\n",
       "    .dataframe thead tr:only-child th {\n",
       "        text-align: right;\n",
       "    }\n",
       "\n",
       "    .dataframe thead th {\n",
       "        text-align: left;\n",
       "    }\n",
       "\n",
       "    .dataframe tbody tr th {\n",
       "        vertical-align: top;\n",
       "    }\n",
       "</style>\n",
       "<table border=\"1\" class=\"dataframe\">\n",
       "  <thead>\n",
       "    <tr style=\"text-align: right;\">\n",
       "      <th></th>\n",
       "      <th>Coefficient</th>\n",
       "    </tr>\n",
       "  </thead>\n",
       "  <tbody>\n",
       "    <tr>\n",
       "      <th>Date</th>\n",
       "      <td>1.100416e-01</td>\n",
       "    </tr>\n",
       "    <tr>\n",
       "      <th>Weekend</th>\n",
       "      <td>3.971655e+12</td>\n",
       "    </tr>\n",
       "    <tr>\n",
       "      <th>Month_GRP</th>\n",
       "      <td>-3.839844e+00</td>\n",
       "    </tr>\n",
       "    <tr>\n",
       "      <th>Time_GRP</th>\n",
       "      <td>-6.239502e+00</td>\n",
       "    </tr>\n",
       "    <tr>\n",
       "      <th>Weekend</th>\n",
       "      <td>-2.029925e+13</td>\n",
       "    </tr>\n",
       "    <tr>\n",
       "      <th>Saturday</th>\n",
       "      <td>1.097970e+13</td>\n",
       "    </tr>\n",
       "    <tr>\n",
       "      <th>Sunday</th>\n",
       "      <td>1.097970e+13</td>\n",
       "    </tr>\n",
       "    <tr>\n",
       "      <th>Monday</th>\n",
       "      <td>-5.347897e+12</td>\n",
       "    </tr>\n",
       "    <tr>\n",
       "      <th>Tuesday</th>\n",
       "      <td>-5.347897e+12</td>\n",
       "    </tr>\n",
       "    <tr>\n",
       "      <th>Wednesday</th>\n",
       "      <td>-5.347897e+12</td>\n",
       "    </tr>\n",
       "    <tr>\n",
       "      <th>Thursday</th>\n",
       "      <td>-5.347897e+12</td>\n",
       "    </tr>\n",
       "    <tr>\n",
       "      <th>Friday</th>\n",
       "      <td>-5.347897e+12</td>\n",
       "    </tr>\n",
       "  </tbody>\n",
       "</table>\n",
       "</div>"
      ],
      "text/plain": [
       "            Coefficient\n",
       "Date       1.100416e-01\n",
       "Weekend    3.971655e+12\n",
       "Month_GRP -3.839844e+00\n",
       "Time_GRP  -6.239502e+00\n",
       "Weekend   -2.029925e+13\n",
       "Saturday   1.097970e+13\n",
       "Sunday     1.097970e+13\n",
       "Monday    -5.347897e+12\n",
       "Tuesday   -5.347897e+12\n",
       "Wednesday -5.347897e+12\n",
       "Thursday  -5.347897e+12\n",
       "Friday    -5.347897e+12"
      ]
     },
     "execution_count": 322,
     "metadata": {},
     "output_type": "execute_result"
    }
   ],
   "source": [
    "from sklearn.linear_model import LinearRegression\n",
    "lm = LinearRegression()\n",
    "lm.fit(X_train,y_train)\n",
    "coeff_df = pd.DataFrame(lm.coef_,X.columns,columns=['Coefficient'])\n",
    "coeff_df"
   ]
  },
  {
   "cell_type": "code",
   "execution_count": null,
   "metadata": {
    "collapsed": true
   },
   "outputs": [],
   "source": []
  },
  {
   "cell_type": "code",
   "execution_count": 323,
   "metadata": {},
   "outputs": [
    {
     "data": {
      "text/plain": [
       "<matplotlib.collections.PathCollection at 0x1d3c5510>"
      ]
     },
     "execution_count": 323,
     "metadata": {},
     "output_type": "execute_result"
    },
    {
     "data": {
      "image/png": "[encoded data removed]",
      "text/plain": [
       "<matplotlib.figure.Figure at 0x1cf6db30>"
      ]
     },
     "metadata": {},
     "output_type": "display_data"
    }
   ],
   "source": [
    "predictions = lm.predict(X_test)\n",
    "plt.scatter(y_test,predictions)"
   ]
  },
  {
   "cell_type": "code",
   "execution_count": 324,
   "metadata": {},
   "outputs": [
    {
     "name": "stdout",
     "output_type": "stream",
     "text": [
      "('MAE:', 17.289161712191621)\n",
      "('MSE:', 447.99899220936345)\n",
      "('RMSE:', 21.165986681687283)\n"
     ]
    }
   ],
   "source": [
    "print('MAE:', metrics.mean_absolute_error(y_test, predictions))\n",
    "print('MSE:', metrics.mean_squared_error(y_test, predictions))\n",
    "print('RMSE:', np.sqrt(metrics.mean_squared_error(y_test, predictions)))"
   ]
  },
  {
   "cell_type": "code",
   "execution_count": null,
   "metadata": {
    "collapsed": true
   },
   "outputs": [],
   "source": [
    "from sklearn.tree import DecisionTreeRegressor\n",
    "dtree = DecisionTreeReressor()\n",
    "dtree.fit(X_train,y_train)\n",
    "predictions = dtree.predict(X_test)"
   ]
  },
  {
   "cell_type": "code",
   "execution_count": null,
   "metadata": {
    "collapsed": true
   },
   "outputs": [],
   "source": []
  }
 ],
 "metadata": {
  "kernelspec": {
   "display_name": "Python 2",
   "language": "python",
   "name": "python2"
  },
  "language_info": {
   "codemirror_mode": {
    "name": "ipython",
    "version": 2
   },
   "file_extension": ".py",
   "mimetype": "text/x-python",
   "name": "python",
   "nbconvert_exporter": "python",
   "pygments_lexer": "ipython2",
   "version": "2.7.13"
  }
 },
 "nbformat": 4,
 "nbformat_minor": 2
}
